{
  "nbformat": 4,
  "nbformat_minor": 0,
  "metadata": {
    "colab": {
      "name": "CartPole.ipynb",
      "provenance": [],
      "collapsed_sections": []
    },
    "kernelspec": {
      "name": "python3",
      "display_name": "Python 3"
    },
    "language_info": {
      "name": "python"
    }
  },
  "cells": [
    {
      "cell_type": "markdown",
      "source": [
        "## **Preparativos:** \n",
        "\n",
        "1) Instalar paquetes"
      ],
      "metadata": {
        "id": "YM4ZXvZdnHIb"
      }
    },
    {
      "cell_type": "code",
      "execution_count": 1,
      "metadata": {
        "colab": {
          "base_uri": "https://localhost:8080/"
        },
        "id": "f-640LTXP8kd",
        "outputId": "98dc58ba-e029-4be4-f336-de2a219f08de"
      },
      "outputs": [
        {
          "output_type": "stream",
          "name": "stdout",
          "text": [
            "Requirement already satisfied: gym in /usr/local/lib/python3.7/dist-packages (0.21.0)\n",
            "Requirement already satisfied: torch in /usr/local/lib/python3.7/dist-packages (1.10.1)\n",
            "Requirement already satisfied: torchvision in /usr/local/lib/python3.7/dist-packages (0.11.2)\n",
            "Requirement already satisfied: numpy>=1.18.0 in /usr/local/lib/python3.7/dist-packages (from gym) (1.19.5)\n",
            "Requirement already satisfied: cloudpickle>=1.2.0 in /usr/local/lib/python3.7/dist-packages (from gym) (1.3.0)\n",
            "Requirement already satisfied: importlib-metadata>=4.8.1 in /usr/local/lib/python3.7/dist-packages (from gym) (4.8.2)\n",
            "Requirement already satisfied: zipp>=0.5 in /usr/local/lib/python3.7/dist-packages (from importlib-metadata>=4.8.1->gym) (3.6.0)\n",
            "Requirement already satisfied: typing-extensions>=3.6.4 in /usr/local/lib/python3.7/dist-packages (from importlib-metadata>=4.8.1->gym) (3.10.0.2)\n",
            "Requirement already satisfied: pillow!=8.3.0,>=5.3.0 in /usr/local/lib/python3.7/dist-packages (from torchvision) (7.1.2)\n",
            "Ign:1 https://developer.download.nvidia.com/compute/cuda/repos/ubuntu1804/x86_64  InRelease\n",
            "Hit:2 http://security.ubuntu.com/ubuntu bionic-security InRelease\n",
            "Get:3 http://ppa.launchpad.net/c2d4u.team/c2d4u4.0+/ubuntu bionic InRelease [15.9 kB]\n",
            "Ign:4 https://developer.download.nvidia.com/compute/machine-learning/repos/ubuntu1804/x86_64  InRelease\n",
            "Get:5 https://cloud.r-project.org/bin/linux/ubuntu bionic-cran40/ InRelease [3,626 B]\n",
            "Hit:6 http://archive.ubuntu.com/ubuntu bionic InRelease\n",
            "Hit:7 https://developer.download.nvidia.com/compute/cuda/repos/ubuntu1804/x86_64  Release\n",
            "Hit:8 https://developer.download.nvidia.com/compute/machine-learning/repos/ubuntu1804/x86_64  Release\n",
            "Hit:9 http://archive.ubuntu.com/ubuntu bionic-updates InRelease\n",
            "Hit:10 http://archive.ubuntu.com/ubuntu bionic-backports InRelease\n",
            "Hit:11 http://ppa.launchpad.net/cran/libgit2/ubuntu bionic InRelease\n",
            "Hit:12 http://ppa.launchpad.net/deadsnakes/ppa/ubuntu bionic InRelease\n",
            "Get:13 http://ppa.launchpad.net/graphics-drivers/ppa/ubuntu bionic InRelease [21.3 kB]\n",
            "Get:16 http://ppa.launchpad.net/c2d4u.team/c2d4u4.0+/ubuntu bionic/main Sources [1,821 kB]\n",
            "Get:17 http://ppa.launchpad.net/c2d4u.team/c2d4u4.0+/ubuntu bionic/main amd64 Packages [934 kB]\n",
            "Get:18 http://ppa.launchpad.net/graphics-drivers/ppa/ubuntu bionic/main amd64 Packages [44.7 kB]\n",
            "Fetched 2,841 kB in 4s (790 kB/s)\n",
            "Reading package lists... Done\n",
            "Reading package lists... Done\n",
            "Building dependency tree       \n",
            "Reading state information... Done\n",
            "xvfb is already the newest version (2:1.19.6-1ubuntu4.10).\n",
            "0 upgraded, 0 newly installed, 0 to remove and 99 not upgraded.\n",
            "Requirement already satisfied: pyvirtualdisplay in /usr/local/lib/python3.7/dist-packages (2.2)\n",
            "Requirement already satisfied: EasyProcess in /usr/local/lib/python3.7/dist-packages (from pyvirtualdisplay) (0.3)\n"
          ]
        }
      ],
      "source": [
        "# Primero instalamos los paquetes principales\n",
        "!pip install -U gym torch torchvision\n",
        "\n",
        "# Lo siguiente es necesario para renderizar los entornos gráficos\n",
        "!apt-get update\n",
        "!apt install xvfb\n",
        "!pip3 install -U pyvirtualdisplay"
      ]
    },
    {
      "cell_type": "markdown",
      "source": [
        "2) Importar"
      ],
      "metadata": {
        "id": "cc7lCdBungoc"
      }
    },
    {
      "cell_type": "code",
      "source": [
        "import gym\n",
        "import torch\n",
        "import torch.nn as nn\n",
        "import torch.nn.functional as F\n",
        "from torch.distributions import Categorical\n",
        "import tqdm"
      ],
      "metadata": {
        "id": "yb5CK5-_RiHB"
      },
      "execution_count": 2,
      "outputs": []
    },
    {
      "cell_type": "markdown",
      "source": [
        "3) Preparar vídeo para Drive"
      ],
      "metadata": {
        "id": "dxdJk4A9nuiO"
      }
    },
    {
      "cell_type": "code",
      "source": [
        "# Display video\n",
        "\n",
        "from pathlib import Path\n",
        "from IPython import display as ipythondisplay\n",
        "import base64\n",
        "\n",
        "def show_videos(video_path='', prefix=''):\n",
        "    html=[]\n",
        "    for mp4 in Path(video_path).glob('{}*.mp4'.format(prefix)):\n",
        "        video_b64 = base64.b64encode(mp4.read_bytes())\n",
        "        html.append('''<video alt=\"{}\" autoplay\n",
        "                   loop controls style=\"height: 400px;\">\n",
        "                   <source src=\"data:video/mp4;base64,{}\" type=\"video/mp4\" />\n",
        "                   </video>'''.format(mp4, video_b64.decode('ascii')))\n",
        "    ipythondisplay.display(ipythondisplay.HTML(data=\"<br>\".join(html)))\n"
      ],
      "metadata": {
        "id": "4QqAh_eERwEJ"
      },
      "execution_count": 3,
      "outputs": []
    },
    {
      "cell_type": "code",
      "source": [
        "from google.colab import drive\n",
        "drive.mount('/content/drive')"
      ],
      "metadata": {
        "colab": {
          "base_uri": "https://localhost:8080/"
        },
        "id": "kvGH6WccRw8o",
        "outputId": "0d6b7de9-0254-408e-cc16-47dbaec1c564"
      },
      "execution_count": 4,
      "outputs": [
        {
          "output_type": "stream",
          "name": "stdout",
          "text": [
            "Drive already mounted at /content/drive; to attempt to forcibly remount, call drive.mount(\"/content/drive\", force_remount=True).\n"
          ]
        }
      ]
    },
    {
      "cell_type": "markdown",
      "source": [
        "# Definir entorno a utilizar\n",
        "CartPole"
      ],
      "metadata": {
        "id": "YWHZeOyVnwWV"
      }
    },
    {
      "cell_type": "code",
      "source": [
        "#crear el entorno\n",
        "env = gym.make('CartPole-v1')\n",
        "action_dim = env.action_space.n\n",
        "print(f'Action dim {action_dim}')"
      ],
      "metadata": {
        "colab": {
          "base_uri": "https://localhost:8080/"
        },
        "id": "vjt7k0f0R5gg",
        "outputId": "5fe4be51-6f68-41ee-cd60-4e78f5bc28d8"
      },
      "execution_count": 5,
      "outputs": [
        {
          "output_type": "stream",
          "name": "stdout",
          "text": [
            "Action dim 2\n"
          ]
        }
      ]
    },
    {
      "cell_type": "markdown",
      "source": [
        "# Definir modelo\n",
        "Actor critic\n"
      ],
      "metadata": {
        "id": "AJQwJfZ7SWDv"
      }
    },
    {
      "cell_type": "code",
      "source": [
        "class ActorCritic(nn.Module):\n",
        "    def __init__(self, in_dim, out_actions_dim):\n",
        "        super().__init__()\n",
        "        #redes más commpleja\n",
        "        self.common=nn.Sequential(\n",
        "            nn.Linear(in_dim,128),\n",
        "            nn.ReLU(),\n",
        "            nn.Linear(128,128),\n",
        "            nn.ReLU(),\n",
        "        )\n",
        "        self.actor=nn.Linear(128, out_actions_dim) #definme actor, 4\n",
        "        self.critic=nn.Linear(128,1)#critico\n",
        "\n",
        "\n",
        "    def forward(self, state):\n",
        "        x_common=self.common(state)\n",
        "        probs=F.softmax(self.actor(x_common),dim=-1)#aplica softmax en la ultima dimension (-1)\n",
        "        value=self.critic(x_common)\n",
        "\n",
        "        return probs, value"
      ],
      "metadata": {
        "id": "u613-ZLzSVij"
      },
      "execution_count": 6,
      "outputs": []
    },
    {
      "cell_type": "code",
      "source": [
        "# class ActorCritic(nn.Module):\n",
        "#     def __init__(self, in_dim, out_actions_dim):\n",
        "#         super().__init__()\n",
        "#         #redes más commpleja\n",
        "\n",
        "#         self.common=nn.Linear(in_dim, 128) #o 128\n",
        "#         self.actor=nn.Linear(128, out_actions_dim) #definme actor, 4\n",
        "#         self.critic=nn.Linear(128,1)#critico\n",
        "\n",
        "\n",
        "#     def forward(self, state):\n",
        "#         x_common=self.common(state)\n",
        "#         probs=F.softmax(self.actor(x_common),dim=-1)#aplica softmax en la ultima dimension (-1)\n",
        "#         value=self.critic(x_common)\n",
        "\n",
        "#         return probs, value"
      ],
      "metadata": {
        "id": "5p_cM-ugggD7"
      },
      "execution_count": 19,
      "outputs": []
    },
    {
      "cell_type": "code",
      "source": [
        "agent = ActorCritic(4,action_dim)\n",
        "lr=0.01 #learning rate\n",
        "\n",
        "optimizer = torch.optim.Adam(agent.parameters(), lr=lr)\n",
        "discount = 0.9\n",
        "\n",
        "mean_rewards = []  # <- Usa esta lista para guardar datos para hacer el plot después"
      ],
      "metadata": {
        "id": "hcqy4KipVqtQ"
      },
      "execution_count": 7,
      "outputs": []
    },
    {
      "cell_type": "markdown",
      "source": [
        "# Entrenar modelo\n"
      ],
      "metadata": {
        "id": "txW8fGRioHmD"
      }
    },
    {
      "cell_type": "code",
      "source": [
        "#BUENO\n",
        "state_dim=4\n",
        "n_batches=500\n",
        "n_simulation_per_batch=50\n",
        "\n",
        "for batch in tqdm.tqdm(range(n_batches)):\n",
        "    rewards=[]\n",
        "    values=[]\n",
        "    log_probs=[]\n",
        "\n",
        "    for simulation in range(n_simulation_per_batch):\n",
        "        done=False\n",
        "        state=env.reset() #resetear entorno\n",
        "        this_sim_rewards = []\n",
        "        \n",
        "\n",
        "        #bucle de simulacion\n",
        "        while not done:\n",
        "          #state_ohe=F.one_hot(torch.tensor([state]).to(torch.int64), num_classes=state_dim).float()\n",
        "          state=torch.FloatTensor(state).unsqueeze(0)\n",
        "         # state = torch.from_numpy(state).float()\n",
        "          \n",
        "          probs, value= agent(state)\n",
        "         # print(f'probs {probs}')\n",
        "          sampler=Categorical(probs)\n",
        "          action=sampler.sample()\n",
        "          log_action=sampler.log_prob(action)\n",
        "\n",
        "          #print(f'Action {action}')\n",
        "          next_state, reward, done, _ =env.step(int(action))\n",
        "\n",
        "          \n",
        "          this_sim_rewards.append(reward)\n",
        "          values.append(value)\n",
        "          log_probs.append(log_action)\n",
        "          \n",
        "          state=next_state\n",
        "\n",
        "          #b\n",
        "        returns = []\n",
        "        future_reward = 0.0\n",
        "        for r in reversed(this_sim_rewards):\n",
        "            step_r = r + discount * future_reward\n",
        "            returns = [step_r] + returns\n",
        "            future_reward = step_r\n",
        "        \n",
        "        rewards.extend(returns)\n",
        "\n",
        "        \n",
        "\n",
        "    \n",
        "    returns = torch.tensor(rewards)[None].T #añade una dimension al tensor, paraobtener la misma domension que el values T es la transpuesta\n",
        "    values = torch.cat(values)\n",
        "    log_probs = torch.stack(log_probs) #stack para hacer un tensor nuevo a partir de una lista de tensores\n",
        "    \n",
        "    returns_minus_values = returns - values\n",
        "    mean_rewards.append(sum(rewards)/len(rewards)) #media de rewards por bach\n",
        "    #print(mean_rewards)\n",
        "\n",
        "    actor_loss = (-log_probs * returns_minus_values).mean()\n",
        "    critic_loss = (values - returns).square().mean()#square para que sean todos positivos, media para que de un numero\n",
        "    loss = actor_loss + critic_loss\n",
        "\n",
        "    optimizer.zero_grad()\n",
        "    loss.backward()\n",
        "    optimizer.step()\n",
        "\n"
      ],
      "metadata": {
        "colab": {
          "base_uri": "https://localhost:8080/"
        },
        "id": "fj--I5ZQhFkk",
        "outputId": "5e9c60d8-da7f-463b-ba75-0612fc579842"
      },
      "execution_count": 8,
      "outputs": [
        {
          "output_type": "stream",
          "name": "stderr",
          "text": [
            "100%|██████████| 500/500 [1:30:21<00:00, 10.84s/it]\n"
          ]
        }
      ]
    },
    {
      "cell_type": "markdown",
      "source": [
        "# Mostrar resultados gráficamente\n",
        "Muestra resultados de las medias de rewards por batch"
      ],
      "metadata": {
        "id": "BwE1dkA0oNEa"
      }
    },
    {
      "cell_type": "code",
      "source": [
        "import matplotlib.pyplot as plt\n",
        "\n",
        "\n",
        "plt.figure()\n",
        "plt.plot(mean_rewards)\n",
        "plt.show()"
      ],
      "metadata": {
        "colab": {
          "base_uri": "https://localhost:8080/",
          "height": 265
        },
        "id": "LiIAxBkPWJXC",
        "outputId": "1045f9cf-1687-464b-c7e4-a76f79f571bd"
      },
      "execution_count": 9,
      "outputs": [
        {
          "output_type": "display_data",
          "data": {
            "image/png": "[encoded data removed]",
            "text/plain": [
              "<Figure size 432x288 with 1 Axes>"
            ]
          },
          "metadata": {
            "needs_background": "light"
          }
        }
      ]
    },
    {
      "cell_type": "markdown",
      "source": [
        "Para el vídeo"
      ],
      "metadata": {
        "id": "L5D-oOekocnL"
      }
    },
    {
      "cell_type": "code",
      "source": [
        "#para el video\n",
        "import gym.wrappers as wr\n",
        "from pyvirtualdisplay import Display \n",
        "\n",
        "display = Display(visible=0, size=(640, 480))\n",
        "display.start()\n",
        "\n",
        "env = wr.RecordVideo(env, './video5')\n",
        "\n",
        "print(f'Action space: {env.action_space}')\n",
        "print(f'Observation space: {env.observation_space}')"
      ],
      "metadata": {
        "colab": {
          "base_uri": "https://localhost:8080/"
        },
        "id": "leL6ZVDir6OW",
        "outputId": "27ec2fba-1af5-48c3-9308-073fb8d750a9"
      },
      "execution_count": 11,
      "outputs": [
        {
          "output_type": "stream",
          "name": "stdout",
          "text": [
            "Action space: Discrete(2)\n",
            "Observation space: Box([-4.8000002e+00 -3.4028235e+38 -4.1887903e-01 -3.4028235e+38], [4.8000002e+00 3.4028235e+38 4.1887903e-01 3.4028235e+38], (4,), float32)\n"
          ]
        }
      ]
    },
    {
      "cell_type": "code",
      "source": [
        "# Display video\n",
        "\n",
        "from pathlib import Path\n",
        "from IPython import display as ipythondisplay\n",
        "import base64\n",
        "\n",
        "def show_videos(video_path='', prefix=''):\n",
        "  html=[]\n",
        "  for mp4 in Path(video_path).glob('{}*.mp4'.format(prefix)):\n",
        "    video_b64 = base64.b64encode(mp4.read_bytes())\n",
        "    html.append('''<video alt=\"{}\" autoplay\n",
        "                   loop controls style=\"height: 400px;\">\n",
        "                   <source src=\"data:video/mp4;base64,{}\" type=\"video/mp4\" />\n",
        "                   </video>'''.format(mp4, video_b64.decode('ascii')))\n",
        "  ipythondisplay.display(ipythondisplay.HTML(data=\"<br>\".join(html)))\n",
        "\n",
        "show_videos('video5')"
      ],
      "metadata": {
        "colab": {
          "base_uri": "https://localhost:8080/",
          "height": 825
        },
        "id": "Qc-pzNvmnFzZ",
        "outputId": "9b25ac4e-637c-47ef-e6ca-f5559d396f59"
      },
      "execution_count": 23,
      "outputs": [
        {
          "output_type": "display_data",
          "data": {
            "text/html": [
              "<video alt=\"video5/rl-video-episode-0.mp4\" autoplay\n",
              "                   loop controls style=\"height: 400px;\">\n",
              "                   <source src=\"data:video/mp4;base64,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\" type=\"video/mp4\" />\n",
              "                   </video><br><video alt=\"video5/rl-video-episode-1.mp4\" autoplay\n",
              "                   loop controls style=\"height: 400px;\">\n",
              "                   <source src=\"data:video/mp4;base64,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\" type=\"video/mp4\" />\n",
              "                   </video>"
            ],
            "text/plain": [
              "<IPython.core.display.HTML object>"
            ]
          },
          "metadata": {}
        }
      ]
    },
    {
      "cell_type": "code",
      "source": [
        "\n",
        "state = env.reset()\n",
        "env.render()\n",
        "done = False\n",
        "total_reward = 0.\n",
        "while not done:\n",
        "    s=torch.FloatTensor(state).unsqueeze(0)\n",
        "    probs, _ = agent.forward(s)\n",
        "    sampler = Categorical(probs)\n",
        "    action = sampler.sample()\n",
        "    state, reward, done, _ = env.step(int(action))\n",
        "\n",
        "    total_reward += reward\n",
        "\n",
        "    state = next_state\n",
        "    env.render()\n",
        "print(f'Total reward: {total_reward}')"
      ],
      "metadata": {
        "id": "3TucqJL4qh3m",
        "colab": {
          "base_uri": "https://localhost:8080/"
        },
        "outputId": "8f8d90a0-1ec4-4628-d3c9-cd3956b53308"
      },
      "execution_count": 18,
      "outputs": [
        {
          "output_type": "stream",
          "name": "stdout",
          "text": [
            "Total reward: 19.0\n"
          ]
        }
      ]
    },
    {
      "cell_type": "markdown",
      "source": [
        "Guardar modelo"
      ],
      "metadata": {
        "id": "CyOqFc4gv6Il"
      }
    },
    {
      "cell_type": "code",
      "source": [
        "torch.save(agent.state_dict(), '/content/drive/MyDrive/modelo')\n",
        "torch.save(optimizer.state_dict(), '/content/drive/MyDrive/optim.torch')\n",
        "\n",
        "optimizer.load_state_dict(torch.load('/content/drive/MyDrive/optim.torch'))\n",
        "\n",
        "torch.save(\n",
        "    {\n",
        "        'agent': agent.state_dict(),\n",
        "        'optim': optimizer.state_dict(),\n",
        "    },\n",
        "    '/content/drive/MyDrive/estado.torch'\n",
        ")\n",
        "\n"
      ],
      "metadata": {
        "id": "4csHcWQ9u6vH"
      },
      "execution_count": 26,
      "outputs": []
    }
  ]
}